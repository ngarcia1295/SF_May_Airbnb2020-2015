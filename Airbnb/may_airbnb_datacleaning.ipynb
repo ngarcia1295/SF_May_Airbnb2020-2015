{
 "cells": [
  {
   "cell_type": "code",
   "execution_count": 2,
   "metadata": {},
   "outputs": [],
   "source": [
    "import numpy as np\n",
    "import pandas as pd"
   ]
  },
  {
   "cell_type": "code",
   "execution_count": 3,
   "metadata": {},
   "outputs": [],
   "source": [
    "cal_15 = pd.read_csv('~/downloads/may_airbnb_data/515calendar.csv')"
   ]
  },
  {
   "cell_type": "code",
   "execution_count": 4,
   "metadata": {},
   "outputs": [
    {
     "data": {
      "text/html": [
       "<div>\n",
       "<style scoped>\n",
       "    .dataframe tbody tr th:only-of-type {\n",
       "        vertical-align: middle;\n",
       "    }\n",
       "\n",
       "    .dataframe tbody tr th {\n",
       "        vertical-align: top;\n",
       "    }\n",
       "\n",
       "    .dataframe thead th {\n",
       "        text-align: right;\n",
       "    }\n",
       "</style>\n",
       "<table border=\"1\" class=\"dataframe\">\n",
       "  <thead>\n",
       "    <tr style=\"text-align: right;\">\n",
       "      <th></th>\n",
       "      <th>listing_id</th>\n",
       "      <th>date</th>\n",
       "      <th>available</th>\n",
       "      <th>price</th>\n",
       "    </tr>\n",
       "  </thead>\n",
       "  <tbody>\n",
       "    <tr>\n",
       "      <th>0</th>\n",
       "      <td>524299</td>\n",
       "      <td>2015-05-04</td>\n",
       "      <td>t</td>\n",
       "      <td>$250.00</td>\n",
       "    </tr>\n",
       "    <tr>\n",
       "      <th>1</th>\n",
       "      <td>524299</td>\n",
       "      <td>2015-05-05</td>\n",
       "      <td>t</td>\n",
       "      <td>$250.00</td>\n",
       "    </tr>\n",
       "    <tr>\n",
       "      <th>2</th>\n",
       "      <td>524299</td>\n",
       "      <td>2015-05-06</td>\n",
       "      <td>t</td>\n",
       "      <td>$250.00</td>\n",
       "    </tr>\n",
       "    <tr>\n",
       "      <th>3</th>\n",
       "      <td>524299</td>\n",
       "      <td>2015-05-07</td>\n",
       "      <td>t</td>\n",
       "      <td>$250.00</td>\n",
       "    </tr>\n",
       "    <tr>\n",
       "      <th>4</th>\n",
       "      <td>524299</td>\n",
       "      <td>2015-05-08</td>\n",
       "      <td>t</td>\n",
       "      <td>$250.00</td>\n",
       "    </tr>\n",
       "  </tbody>\n",
       "</table>\n",
       "</div>"
      ],
      "text/plain": [
       "   listing_id        date available    price\n",
       "0      524299  2015-05-04         t  $250.00\n",
       "1      524299  2015-05-05         t  $250.00\n",
       "2      524299  2015-05-06         t  $250.00\n",
       "3      524299  2015-05-07         t  $250.00\n",
       "4      524299  2015-05-08         t  $250.00"
      ]
     },
     "execution_count": 4,
     "metadata": {},
     "output_type": "execute_result"
    }
   ],
   "source": [
    "cal_15.head()"
   ]
  },
  {
   "cell_type": "code",
   "execution_count": 4,
   "metadata": {},
   "outputs": [],
   "source": [
    "cal_16 = pd.read_csv('~/downloads/may_airbnb_data/516calendar.csv')\n",
    "cal_17 = pd.read_csv('~/downloads/may_airbnb_data/517calendar.csv')"
   ]
  },
  {
   "cell_type": "code",
   "execution_count": 6,
   "metadata": {},
   "outputs": [
    {
     "data": {
      "text/html": [
       "<div>\n",
       "<style scoped>\n",
       "    .dataframe tbody tr th:only-of-type {\n",
       "        vertical-align: middle;\n",
       "    }\n",
       "\n",
       "    .dataframe tbody tr th {\n",
       "        vertical-align: top;\n",
       "    }\n",
       "\n",
       "    .dataframe thead th {\n",
       "        text-align: right;\n",
       "    }\n",
       "</style>\n",
       "<table border=\"1\" class=\"dataframe\">\n",
       "  <thead>\n",
       "    <tr style=\"text-align: right;\">\n",
       "      <th></th>\n",
       "      <th>listing_id</th>\n",
       "      <th>date</th>\n",
       "      <th>available</th>\n",
       "      <th>price</th>\n",
       "    </tr>\n",
       "  </thead>\n",
       "  <tbody>\n",
       "    <tr>\n",
       "      <th>0</th>\n",
       "      <td>10469182</td>\n",
       "      <td>2016-05-01</td>\n",
       "      <td>f</td>\n",
       "      <td>NaN</td>\n",
       "    </tr>\n",
       "    <tr>\n",
       "      <th>1</th>\n",
       "      <td>10469182</td>\n",
       "      <td>2016-05-02</td>\n",
       "      <td>f</td>\n",
       "      <td>NaN</td>\n",
       "    </tr>\n",
       "    <tr>\n",
       "      <th>2</th>\n",
       "      <td>10469182</td>\n",
       "      <td>2016-05-03</td>\n",
       "      <td>f</td>\n",
       "      <td>NaN</td>\n",
       "    </tr>\n",
       "    <tr>\n",
       "      <th>3</th>\n",
       "      <td>10469182</td>\n",
       "      <td>2016-05-04</td>\n",
       "      <td>f</td>\n",
       "      <td>NaN</td>\n",
       "    </tr>\n",
       "    <tr>\n",
       "      <th>4</th>\n",
       "      <td>10469182</td>\n",
       "      <td>2016-05-05</td>\n",
       "      <td>f</td>\n",
       "      <td>NaN</td>\n",
       "    </tr>\n",
       "  </tbody>\n",
       "</table>\n",
       "</div>"
      ],
      "text/plain": [
       "   listing_id        date available price\n",
       "0    10469182  2016-05-01         f   NaN\n",
       "1    10469182  2016-05-02         f   NaN\n",
       "2    10469182  2016-05-03         f   NaN\n",
       "3    10469182  2016-05-04         f   NaN\n",
       "4    10469182  2016-05-05         f   NaN"
      ]
     },
     "execution_count": 6,
     "metadata": {},
     "output_type": "execute_result"
    }
   ],
   "source": [
    "cal_16.head()"
   ]
  },
  {
   "cell_type": "code",
   "execution_count": 7,
   "metadata": {},
   "outputs": [
    {
     "data": {
      "text/html": [
       "<div>\n",
       "<style scoped>\n",
       "    .dataframe tbody tr th:only-of-type {\n",
       "        vertical-align: middle;\n",
       "    }\n",
       "\n",
       "    .dataframe tbody tr th {\n",
       "        vertical-align: top;\n",
       "    }\n",
       "\n",
       "    .dataframe thead th {\n",
       "        text-align: right;\n",
       "    }\n",
       "</style>\n",
       "<table border=\"1\" class=\"dataframe\">\n",
       "  <thead>\n",
       "    <tr style=\"text-align: right;\">\n",
       "      <th></th>\n",
       "      <th>listing_id</th>\n",
       "      <th>date</th>\n",
       "      <th>available</th>\n",
       "      <th>price</th>\n",
       "    </tr>\n",
       "  </thead>\n",
       "  <tbody>\n",
       "    <tr>\n",
       "      <th>0</th>\n",
       "      <td>276170</td>\n",
       "      <td>2018-05-01</td>\n",
       "      <td>f</td>\n",
       "      <td>NaN</td>\n",
       "    </tr>\n",
       "    <tr>\n",
       "      <th>1</th>\n",
       "      <td>276170</td>\n",
       "      <td>2018-04-30</td>\n",
       "      <td>f</td>\n",
       "      <td>NaN</td>\n",
       "    </tr>\n",
       "    <tr>\n",
       "      <th>2</th>\n",
       "      <td>276170</td>\n",
       "      <td>2018-04-29</td>\n",
       "      <td>f</td>\n",
       "      <td>NaN</td>\n",
       "    </tr>\n",
       "    <tr>\n",
       "      <th>3</th>\n",
       "      <td>276170</td>\n",
       "      <td>2018-04-28</td>\n",
       "      <td>f</td>\n",
       "      <td>NaN</td>\n",
       "    </tr>\n",
       "    <tr>\n",
       "      <th>4</th>\n",
       "      <td>276170</td>\n",
       "      <td>2018-04-27</td>\n",
       "      <td>f</td>\n",
       "      <td>NaN</td>\n",
       "    </tr>\n",
       "  </tbody>\n",
       "</table>\n",
       "</div>"
      ],
      "text/plain": [
       "   listing_id        date available price\n",
       "0      276170  2018-05-01         f   NaN\n",
       "1      276170  2018-04-30         f   NaN\n",
       "2      276170  2018-04-29         f   NaN\n",
       "3      276170  2018-04-28         f   NaN\n",
       "4      276170  2018-04-27         f   NaN"
      ]
     },
     "execution_count": 7,
     "metadata": {},
     "output_type": "execute_result"
    }
   ],
   "source": [
    "cal_17.head()"
   ]
  },
  {
   "cell_type": "code",
   "execution_count": 8,
   "metadata": {},
   "outputs": [
    {
     "data": {
      "text/plain": [
       "$150.00      32977\n",
       "$100.00      26520\n",
       "$250.00      25897\n",
       "$200.00      24837\n",
       "$120.00      21372\n",
       "             ...  \n",
       "$1,767.00        1\n",
       "$1,339.00        1\n",
       "$2,199.00        1\n",
       "$1,676.00        1\n",
       "$1,260.00        1\n",
       "Name: price, Length: 1610, dtype: int64"
      ]
     },
     "execution_count": 8,
     "metadata": {},
     "output_type": "execute_result"
    }
   ],
   "source": [
    "cal_17.price.value_counts()"
   ]
  },
  {
   "cell_type": "code",
   "execution_count": 5,
   "metadata": {},
   "outputs": [],
   "source": [
    "cal_18 = pd.read_csv('~/downloads/may_airbnb_data/518calendar.csv')\n",
    "cal_19 = pd.read_csv('~/downloads/may_airbnb_data/519calendar.csv')\n",
    "cal_20 = pd.read_csv('~/downloads/may_airbnb_data/520calendar.csv')"
   ]
  },
  {
   "cell_type": "code",
   "execution_count": 10,
   "metadata": {},
   "outputs": [
    {
     "data": {
      "text/html": [
       "<div>\n",
       "<style scoped>\n",
       "    .dataframe tbody tr th:only-of-type {\n",
       "        vertical-align: middle;\n",
       "    }\n",
       "\n",
       "    .dataframe tbody tr th {\n",
       "        vertical-align: top;\n",
       "    }\n",
       "\n",
       "    .dataframe thead th {\n",
       "        text-align: right;\n",
       "    }\n",
       "</style>\n",
       "<table border=\"1\" class=\"dataframe\">\n",
       "  <thead>\n",
       "    <tr style=\"text-align: right;\">\n",
       "      <th></th>\n",
       "      <th>listing_id</th>\n",
       "      <th>date</th>\n",
       "      <th>available</th>\n",
       "      <th>price</th>\n",
       "    </tr>\n",
       "  </thead>\n",
       "  <tbody>\n",
       "    <tr>\n",
       "      <th>0</th>\n",
       "      <td>21065885</td>\n",
       "      <td>2019-05-08</td>\n",
       "      <td>f</td>\n",
       "      <td>NaN</td>\n",
       "    </tr>\n",
       "    <tr>\n",
       "      <th>1</th>\n",
       "      <td>21065885</td>\n",
       "      <td>2019-05-07</td>\n",
       "      <td>t</td>\n",
       "      <td>$5,000.00</td>\n",
       "    </tr>\n",
       "    <tr>\n",
       "      <th>2</th>\n",
       "      <td>21065885</td>\n",
       "      <td>2019-05-06</td>\n",
       "      <td>t</td>\n",
       "      <td>$5,000.00</td>\n",
       "    </tr>\n",
       "    <tr>\n",
       "      <th>3</th>\n",
       "      <td>21065885</td>\n",
       "      <td>2019-05-05</td>\n",
       "      <td>t</td>\n",
       "      <td>$5,000.00</td>\n",
       "    </tr>\n",
       "    <tr>\n",
       "      <th>4</th>\n",
       "      <td>21065885</td>\n",
       "      <td>2019-05-04</td>\n",
       "      <td>t</td>\n",
       "      <td>$2,000.00</td>\n",
       "    </tr>\n",
       "  </tbody>\n",
       "</table>\n",
       "</div>"
      ],
      "text/plain": [
       "   listing_id        date available      price\n",
       "0    21065885  2019-05-08         f        NaN\n",
       "1    21065885  2019-05-07         t  $5,000.00\n",
       "2    21065885  2019-05-06         t  $5,000.00\n",
       "3    21065885  2019-05-05         t  $5,000.00\n",
       "4    21065885  2019-05-04         t  $2,000.00"
      ]
     },
     "execution_count": 10,
     "metadata": {},
     "output_type": "execute_result"
    }
   ],
   "source": [
    "cal_18.head()"
   ]
  },
  {
   "cell_type": "code",
   "execution_count": 11,
   "metadata": {},
   "outputs": [
    {
     "data": {
      "text/html": [
       "<div>\n",
       "<style scoped>\n",
       "    .dataframe tbody tr th:only-of-type {\n",
       "        vertical-align: middle;\n",
       "    }\n",
       "\n",
       "    .dataframe tbody tr th {\n",
       "        vertical-align: top;\n",
       "    }\n",
       "\n",
       "    .dataframe thead th {\n",
       "        text-align: right;\n",
       "    }\n",
       "</style>\n",
       "<table border=\"1\" class=\"dataframe\">\n",
       "  <thead>\n",
       "    <tr style=\"text-align: right;\">\n",
       "      <th></th>\n",
       "      <th>listing_id</th>\n",
       "      <th>date</th>\n",
       "      <th>available</th>\n",
       "      <th>price</th>\n",
       "      <th>adjusted_price</th>\n",
       "      <th>minimum_nights</th>\n",
       "      <th>maximum_nights</th>\n",
       "    </tr>\n",
       "  </thead>\n",
       "  <tbody>\n",
       "    <tr>\n",
       "      <th>0</th>\n",
       "      <td>34158472</td>\n",
       "      <td>2019-05-03</td>\n",
       "      <td>f</td>\n",
       "      <td>$399.00</td>\n",
       "      <td>$399.00</td>\n",
       "      <td>2</td>\n",
       "      <td>1125</td>\n",
       "    </tr>\n",
       "    <tr>\n",
       "      <th>1</th>\n",
       "      <td>34158472</td>\n",
       "      <td>2019-05-04</td>\n",
       "      <td>f</td>\n",
       "      <td>$399.00</td>\n",
       "      <td>$399.00</td>\n",
       "      <td>2</td>\n",
       "      <td>1125</td>\n",
       "    </tr>\n",
       "    <tr>\n",
       "      <th>2</th>\n",
       "      <td>34158472</td>\n",
       "      <td>2019-05-05</td>\n",
       "      <td>t</td>\n",
       "      <td>$399.00</td>\n",
       "      <td>$399.00</td>\n",
       "      <td>2</td>\n",
       "      <td>1125</td>\n",
       "    </tr>\n",
       "    <tr>\n",
       "      <th>3</th>\n",
       "      <td>34158472</td>\n",
       "      <td>2019-05-06</td>\n",
       "      <td>t</td>\n",
       "      <td>$399.00</td>\n",
       "      <td>$399.00</td>\n",
       "      <td>2</td>\n",
       "      <td>1125</td>\n",
       "    </tr>\n",
       "    <tr>\n",
       "      <th>4</th>\n",
       "      <td>34158472</td>\n",
       "      <td>2019-05-07</td>\n",
       "      <td>t</td>\n",
       "      <td>$399.00</td>\n",
       "      <td>$399.00</td>\n",
       "      <td>2</td>\n",
       "      <td>1125</td>\n",
       "    </tr>\n",
       "  </tbody>\n",
       "</table>\n",
       "</div>"
      ],
      "text/plain": [
       "   listing_id        date available    price adjusted_price  minimum_nights  \\\n",
       "0    34158472  2019-05-03         f  $399.00        $399.00               2   \n",
       "1    34158472  2019-05-04         f  $399.00        $399.00               2   \n",
       "2    34158472  2019-05-05         t  $399.00        $399.00               2   \n",
       "3    34158472  2019-05-06         t  $399.00        $399.00               2   \n",
       "4    34158472  2019-05-07         t  $399.00        $399.00               2   \n",
       "\n",
       "   maximum_nights  \n",
       "0            1125  \n",
       "1            1125  \n",
       "2            1125  \n",
       "3            1125  \n",
       "4            1125  "
      ]
     },
     "execution_count": 11,
     "metadata": {},
     "output_type": "execute_result"
    }
   ],
   "source": [
    "cal_19.head()"
   ]
  },
  {
   "cell_type": "code",
   "execution_count": 6,
   "metadata": {},
   "outputs": [],
   "source": [
    "cal_20['year'] = 2020  \n",
    "cal_19['year'] = 2019  \n",
    "cal_18['year'] = 2018  \n",
    "cal_17['year'] = 2017 \n",
    "cal_16['year'] = 2016\n",
    "cal_15['year'] = 2015 "
   ]
  },
  {
   "cell_type": "code",
   "execution_count": 7,
   "metadata": {},
   "outputs": [],
   "source": [
    "may_master_cal = pd.concat([cal_20, cal_19, cal_18, cal_17, cal_16, cal_15])"
   ]
  },
  {
   "cell_type": "code",
   "execution_count": 14,
   "metadata": {},
   "outputs": [
    {
     "data": {
      "text/html": [
       "<div>\n",
       "<style scoped>\n",
       "    .dataframe tbody tr th:only-of-type {\n",
       "        vertical-align: middle;\n",
       "    }\n",
       "\n",
       "    .dataframe tbody tr th {\n",
       "        vertical-align: top;\n",
       "    }\n",
       "\n",
       "    .dataframe thead th {\n",
       "        text-align: right;\n",
       "    }\n",
       "</style>\n",
       "<table border=\"1\" class=\"dataframe\">\n",
       "  <thead>\n",
       "    <tr style=\"text-align: right;\">\n",
       "      <th></th>\n",
       "      <th>listing_id</th>\n",
       "      <th>date</th>\n",
       "      <th>available</th>\n",
       "      <th>price</th>\n",
       "      <th>adjusted_price</th>\n",
       "      <th>minimum_nights</th>\n",
       "      <th>maximum_nights</th>\n",
       "      <th>year</th>\n",
       "    </tr>\n",
       "  </thead>\n",
       "  <tbody>\n",
       "    <tr>\n",
       "      <th>0</th>\n",
       "      <td>74758</td>\n",
       "      <td>2020-05-06</td>\n",
       "      <td>t</td>\n",
       "      <td>$35.00</td>\n",
       "      <td>$35.00</td>\n",
       "      <td>30.0</td>\n",
       "      <td>1125.0</td>\n",
       "      <td>2020</td>\n",
       "    </tr>\n",
       "    <tr>\n",
       "      <th>1</th>\n",
       "      <td>74758</td>\n",
       "      <td>2020-05-07</td>\n",
       "      <td>t</td>\n",
       "      <td>$35.00</td>\n",
       "      <td>$35.00</td>\n",
       "      <td>30.0</td>\n",
       "      <td>1125.0</td>\n",
       "      <td>2020</td>\n",
       "    </tr>\n",
       "    <tr>\n",
       "      <th>2</th>\n",
       "      <td>74758</td>\n",
       "      <td>2020-05-08</td>\n",
       "      <td>t</td>\n",
       "      <td>$35.00</td>\n",
       "      <td>$35.00</td>\n",
       "      <td>30.0</td>\n",
       "      <td>1125.0</td>\n",
       "      <td>2020</td>\n",
       "    </tr>\n",
       "    <tr>\n",
       "      <th>3</th>\n",
       "      <td>74758</td>\n",
       "      <td>2020-05-09</td>\n",
       "      <td>t</td>\n",
       "      <td>$35.00</td>\n",
       "      <td>$35.00</td>\n",
       "      <td>30.0</td>\n",
       "      <td>1125.0</td>\n",
       "      <td>2020</td>\n",
       "    </tr>\n",
       "    <tr>\n",
       "      <th>4</th>\n",
       "      <td>74758</td>\n",
       "      <td>2020-05-10</td>\n",
       "      <td>t</td>\n",
       "      <td>$35.00</td>\n",
       "      <td>$35.00</td>\n",
       "      <td>30.0</td>\n",
       "      <td>1125.0</td>\n",
       "      <td>2020</td>\n",
       "    </tr>\n",
       "  </tbody>\n",
       "</table>\n",
       "</div>"
      ],
      "text/plain": [
       "   listing_id        date available   price adjusted_price  minimum_nights  \\\n",
       "0       74758  2020-05-06         t  $35.00         $35.00            30.0   \n",
       "1       74758  2020-05-07         t  $35.00         $35.00            30.0   \n",
       "2       74758  2020-05-08         t  $35.00         $35.00            30.0   \n",
       "3       74758  2020-05-09         t  $35.00         $35.00            30.0   \n",
       "4       74758  2020-05-10         t  $35.00         $35.00            30.0   \n",
       "\n",
       "   maximum_nights  year  \n",
       "0          1125.0  2020  \n",
       "1          1125.0  2020  \n",
       "2          1125.0  2020  \n",
       "3          1125.0  2020  \n",
       "4          1125.0  2020  "
      ]
     },
     "execution_count": 14,
     "metadata": {},
     "output_type": "execute_result"
    }
   ],
   "source": [
    "may_master_cal.head()"
   ]
  },
  {
   "cell_type": "code",
   "execution_count": 32,
   "metadata": {},
   "outputs": [],
   "source": [
    "#may_master_cal.to_csv('may_master_cal.csv')"
   ]
  },
  {
   "cell_type": "code",
   "execution_count": 8,
   "metadata": {},
   "outputs": [],
   "source": [
    "list_15 = pd.read_csv('~/downloads/may_airbnb_data/515listings.csv')"
   ]
  },
  {
   "cell_type": "code",
   "execution_count": 34,
   "metadata": {},
   "outputs": [
    {
     "data": {
      "text/html": [
       "<div>\n",
       "<style scoped>\n",
       "    .dataframe tbody tr th:only-of-type {\n",
       "        vertical-align: middle;\n",
       "    }\n",
       "\n",
       "    .dataframe tbody tr th {\n",
       "        vertical-align: top;\n",
       "    }\n",
       "\n",
       "    .dataframe thead th {\n",
       "        text-align: right;\n",
       "    }\n",
       "</style>\n",
       "<table border=\"1\" class=\"dataframe\">\n",
       "  <thead>\n",
       "    <tr style=\"text-align: right;\">\n",
       "      <th></th>\n",
       "      <th>id</th>\n",
       "      <th>listing_url</th>\n",
       "      <th>scrape_id</th>\n",
       "      <th>last_scraped</th>\n",
       "      <th>name</th>\n",
       "      <th>summary</th>\n",
       "      <th>space</th>\n",
       "      <th>description</th>\n",
       "      <th>picture_url</th>\n",
       "      <th>host_id</th>\n",
       "      <th>...</th>\n",
       "      <th>review_scores_cleanliness</th>\n",
       "      <th>review_scores_checkin</th>\n",
       "      <th>review_scores_communication</th>\n",
       "      <th>review_scores_location</th>\n",
       "      <th>review_scores_value</th>\n",
       "      <th>requires_license</th>\n",
       "      <th>license</th>\n",
       "      <th>jurisdiction_names</th>\n",
       "      <th>calculated_host_listings_count</th>\n",
       "      <th>reviews_per_month</th>\n",
       "    </tr>\n",
       "  </thead>\n",
       "  <tbody>\n",
       "    <tr>\n",
       "      <th>0</th>\n",
       "      <td>295240</td>\n",
       "      <td>https://www.airbnb.com/rooms/295240</td>\n",
       "      <td>20150504112114</td>\n",
       "      <td>2015-05-04</td>\n",
       "      <td>Luxury Apartment Oasis w/ Hot Tub</td>\n",
       "      <td>NaN</td>\n",
       "      <td>This lower apartment unit is total private and...</td>\n",
       "      <td>This lower apartment unit is total private and...</td>\n",
       "      <td>https://a1.muscache.com/ic/pictures/3090603/49...</td>\n",
       "      <td>1525192</td>\n",
       "      <td>...</td>\n",
       "      <td>10.0</td>\n",
       "      <td>10.0</td>\n",
       "      <td>10.0</td>\n",
       "      <td>10.0</td>\n",
       "      <td>10.0</td>\n",
       "      <td>t</td>\n",
       "      <td>NaN</td>\n",
       "      <td>SAN FRANCISCO</td>\n",
       "      <td>1</td>\n",
       "      <td>0.6</td>\n",
       "    </tr>\n",
       "    <tr>\n",
       "      <th>1</th>\n",
       "      <td>4882829</td>\n",
       "      <td>https://www.airbnb.com/rooms/4882829</td>\n",
       "      <td>20150504112114</td>\n",
       "      <td>2015-05-04</td>\n",
       "      <td>Private room in Inner Richmond</td>\n",
       "      <td>NaN</td>\n",
       "      <td>This is a great &amp; extremely safe neighborhood ...</td>\n",
       "      <td>This is a great &amp; extremely safe neighborhood ...</td>\n",
       "      <td>https://a2.muscache.com/ic/pictures/61369530/c...</td>\n",
       "      <td>25118670</td>\n",
       "      <td>...</td>\n",
       "      <td>NaN</td>\n",
       "      <td>NaN</td>\n",
       "      <td>NaN</td>\n",
       "      <td>NaN</td>\n",
       "      <td>NaN</td>\n",
       "      <td>t</td>\n",
       "      <td>NaN</td>\n",
       "      <td>SAN FRANCISCO</td>\n",
       "      <td>1</td>\n",
       "      <td>1.0</td>\n",
       "    </tr>\n",
       "    <tr>\n",
       "      <th>2</th>\n",
       "      <td>4850420</td>\n",
       "      <td>https://www.airbnb.com/rooms/4850420</td>\n",
       "      <td>20150504112114</td>\n",
       "      <td>2015-05-04</td>\n",
       "      <td>Edge of SOMA + the Mission</td>\n",
       "      <td>Perfect Christmas getaway to SF on the edge of...</td>\n",
       "      <td>NaN</td>\n",
       "      <td>Perfect Christmas getaway to SF on the edge of...</td>\n",
       "      <td>https://a1.muscache.com/ic/pictures/60818090/a...</td>\n",
       "      <td>1358761</td>\n",
       "      <td>...</td>\n",
       "      <td>NaN</td>\n",
       "      <td>NaN</td>\n",
       "      <td>NaN</td>\n",
       "      <td>NaN</td>\n",
       "      <td>NaN</td>\n",
       "      <td>t</td>\n",
       "      <td>NaN</td>\n",
       "      <td>SAN FRANCISCO</td>\n",
       "      <td>1</td>\n",
       "      <td>NaN</td>\n",
       "    </tr>\n",
       "    <tr>\n",
       "      <th>3</th>\n",
       "      <td>1278848</td>\n",
       "      <td>https://www.airbnb.com/rooms/1278848</td>\n",
       "      <td>20150504112114</td>\n",
       "      <td>2015-05-04</td>\n",
       "      <td>Sunny Nob Hill 1 br (entire apt)</td>\n",
       "      <td>NaN</td>\n",
       "      <td>This is a charming 1 bedroom apartment on the ...</td>\n",
       "      <td>This is a charming 1 bedroom apartment on the ...</td>\n",
       "      <td>https://a2.muscache.com/ic/pictures/19278951/c...</td>\n",
       "      <td>6959333</td>\n",
       "      <td>...</td>\n",
       "      <td>7.0</td>\n",
       "      <td>9.0</td>\n",
       "      <td>10.0</td>\n",
       "      <td>9.0</td>\n",
       "      <td>8.0</td>\n",
       "      <td>t</td>\n",
       "      <td>NaN</td>\n",
       "      <td>SAN FRANCISCO</td>\n",
       "      <td>1</td>\n",
       "      <td>0.5</td>\n",
       "    </tr>\n",
       "    <tr>\n",
       "      <th>4</th>\n",
       "      <td>5068275</td>\n",
       "      <td>https://www.airbnb.com/rooms/5068275</td>\n",
       "      <td>20150504112114</td>\n",
       "      <td>2015-05-04</td>\n",
       "      <td>Huge &amp; Sunny 1BR Loft</td>\n",
       "      <td>1BR/1BA loft with  30-ft high ceilings, large ...</td>\n",
       "      <td>With 30-foot high ceilings, this 1BR/1BA loft ...</td>\n",
       "      <td>1BR/1BA loft with  30-ft high ceilings, large ...</td>\n",
       "      <td>https://a2.muscache.com/ic/pictures/65250390/b...</td>\n",
       "      <td>350767</td>\n",
       "      <td>...</td>\n",
       "      <td>9.0</td>\n",
       "      <td>8.0</td>\n",
       "      <td>8.0</td>\n",
       "      <td>10.0</td>\n",
       "      <td>9.0</td>\n",
       "      <td>t</td>\n",
       "      <td>NaN</td>\n",
       "      <td>SAN FRANCISCO</td>\n",
       "      <td>1</td>\n",
       "      <td>1.7</td>\n",
       "    </tr>\n",
       "  </tbody>\n",
       "</table>\n",
       "<p>5 rows × 68 columns</p>\n",
       "</div>"
      ],
      "text/plain": [
       "        id                           listing_url       scrape_id last_scraped  \\\n",
       "0   295240   https://www.airbnb.com/rooms/295240  20150504112114   2015-05-04   \n",
       "1  4882829  https://www.airbnb.com/rooms/4882829  20150504112114   2015-05-04   \n",
       "2  4850420  https://www.airbnb.com/rooms/4850420  20150504112114   2015-05-04   \n",
       "3  1278848  https://www.airbnb.com/rooms/1278848  20150504112114   2015-05-04   \n",
       "4  5068275  https://www.airbnb.com/rooms/5068275  20150504112114   2015-05-04   \n",
       "\n",
       "                                  name  \\\n",
       "0  Luxury Apartment Oasis w/ Hot Tub     \n",
       "1       Private room in Inner Richmond   \n",
       "2          Edge of SOMA + the Mission    \n",
       "3     Sunny Nob Hill 1 br (entire apt)   \n",
       "4               Huge & Sunny 1BR Loft    \n",
       "\n",
       "                                             summary  \\\n",
       "0                                                NaN   \n",
       "1                                                NaN   \n",
       "2  Perfect Christmas getaway to SF on the edge of...   \n",
       "3                                                NaN   \n",
       "4  1BR/1BA loft with  30-ft high ceilings, large ...   \n",
       "\n",
       "                                               space  \\\n",
       "0  This lower apartment unit is total private and...   \n",
       "1  This is a great & extremely safe neighborhood ...   \n",
       "2                                                NaN   \n",
       "3  This is a charming 1 bedroom apartment on the ...   \n",
       "4  With 30-foot high ceilings, this 1BR/1BA loft ...   \n",
       "\n",
       "                                         description  \\\n",
       "0  This lower apartment unit is total private and...   \n",
       "1  This is a great & extremely safe neighborhood ...   \n",
       "2  Perfect Christmas getaway to SF on the edge of...   \n",
       "3  This is a charming 1 bedroom apartment on the ...   \n",
       "4  1BR/1BA loft with  30-ft high ceilings, large ...   \n",
       "\n",
       "                                         picture_url   host_id  ...  \\\n",
       "0  https://a1.muscache.com/ic/pictures/3090603/49...   1525192  ...   \n",
       "1  https://a2.muscache.com/ic/pictures/61369530/c...  25118670  ...   \n",
       "2  https://a1.muscache.com/ic/pictures/60818090/a...   1358761  ...   \n",
       "3  https://a2.muscache.com/ic/pictures/19278951/c...   6959333  ...   \n",
       "4  https://a2.muscache.com/ic/pictures/65250390/b...    350767  ...   \n",
       "\n",
       "  review_scores_cleanliness review_scores_checkin review_scores_communication  \\\n",
       "0                      10.0                  10.0                        10.0   \n",
       "1                       NaN                   NaN                         NaN   \n",
       "2                       NaN                   NaN                         NaN   \n",
       "3                       7.0                   9.0                        10.0   \n",
       "4                       9.0                   8.0                         8.0   \n",
       "\n",
       "  review_scores_location review_scores_value requires_license license  \\\n",
       "0                   10.0                10.0                t     NaN   \n",
       "1                    NaN                 NaN                t     NaN   \n",
       "2                    NaN                 NaN                t     NaN   \n",
       "3                    9.0                 8.0                t     NaN   \n",
       "4                   10.0                 9.0                t     NaN   \n",
       "\n",
       "  jurisdiction_names calculated_host_listings_count reviews_per_month  \n",
       "0      SAN FRANCISCO                              1               0.6  \n",
       "1      SAN FRANCISCO                              1               1.0  \n",
       "2      SAN FRANCISCO                              1               NaN  \n",
       "3      SAN FRANCISCO                              1               0.5  \n",
       "4      SAN FRANCISCO                              1               1.7  \n",
       "\n",
       "[5 rows x 68 columns]"
      ]
     },
     "execution_count": 34,
     "metadata": {},
     "output_type": "execute_result"
    }
   ],
   "source": [
    "list_15.head()"
   ]
  },
  {
   "cell_type": "code",
   "execution_count": 35,
   "metadata": {},
   "outputs": [
    {
     "data": {
      "text/plain": [
       "Index(['id', 'listing_url', 'scrape_id', 'last_scraped', 'name', 'summary',\n",
       "       'space', 'description', 'picture_url', 'host_id', 'host_url',\n",
       "       'host_name', 'host_since', 'host_location', 'host_about',\n",
       "       'host_response_time', 'host_response_rate', 'host_acceptance_rate',\n",
       "       'host_is_superhost', 'host_picture_url', 'street', 'neighbourhood',\n",
       "       'neighbourhood_cleansed', 'neighbourhood_group_cleansed', 'city',\n",
       "       'state', 'zipcode', 'market', 'country', 'latitude', 'longitude',\n",
       "       'is_location_exact', 'property_type', 'room_type', 'accommodates',\n",
       "       'bathrooms', 'bedrooms', 'beds', 'bed_type', 'square_feet', 'price',\n",
       "       'weekly_price', 'monthly_price', 'guests_included', 'extra_people',\n",
       "       'minimum_nights', 'maximum_nights', 'calendar_updated',\n",
       "       'availability_30', 'availability_60', 'availability_90',\n",
       "       'availability_365', 'calendar_last_scraped', 'number_of_reviews',\n",
       "       'first_review', 'last_review', 'review_scores_rating',\n",
       "       'review_scores_accuracy', 'review_scores_cleanliness',\n",
       "       'review_scores_checkin', 'review_scores_communication',\n",
       "       'review_scores_location', 'review_scores_value', 'requires_license',\n",
       "       'license', 'jurisdiction_names', 'calculated_host_listings_count',\n",
       "       'reviews_per_month'],\n",
       "      dtype='object')"
      ]
     },
     "execution_count": 35,
     "metadata": {},
     "output_type": "execute_result"
    }
   ],
   "source": [
    "list_15.columns"
   ]
  },
  {
   "cell_type": "code",
   "execution_count": 12,
   "metadata": {},
   "outputs": [],
   "source": [
    "may_master_list.drop(['availability_30'], axis=1, inplace = True)"
   ]
  },
  {
   "cell_type": "code",
   "execution_count": 13,
   "metadata": {},
   "outputs": [],
   "source": [
    "may_master_list.drop(['availability_60'], axis=1, inplace = True)\n",
    "may_master_list.drop(['availability_90'], axis=1, inplace = True)\n",
    "may_master_list.drop(['availability_365'], axis=1, inplace = True)\n",
    "may_master_list.drop(['extra_people'], axis=1, inplace = True)\n",
    "may_master_list.drop(['minimum_nights'], axis=1, inplace = True)\n",
    "may_master_list.drop(['maximum_nights'], axis=1, inplace = True)\n",
    "may_master_list.drop(['calendar_updated'], axis=1, inplace = True)\n",
    "\n",
    "\n",
    "\n"
   ]
  },
  {
   "cell_type": "code",
   "execution_count": 14,
   "metadata": {},
   "outputs": [],
   "source": [
    "may_master_list.drop(['summary'], axis=1, inplace = True)\n",
    "may_master_list.drop(['space'], axis=1, inplace = True)\n",
    "may_master_list.drop(['name'], axis=1, inplace = True)\n",
    "may_master_list.drop(['host_picture_url'], axis=1, inplace = True)\n",
    "may_master_list.drop(['host_url'], axis=1, inplace = True)\n",
    "may_master_list.drop(['first_review'], axis=1, inplace = True)\n",
    "may_master_list.drop(['last_review'], axis=1, inplace = True)"
   ]
  },
  {
   "cell_type": "code",
   "execution_count": 15,
   "metadata": {},
   "outputs": [
    {
     "data": {
      "text/plain": [
       "Index(['id', 'listing_url', 'scrape_id', 'last_scraped', 'description',\n",
       "       'experiences_offered', 'neighborhood_overview', 'notes', 'transit',\n",
       "       'access', 'interaction', 'house_rules', 'thumbnail_url', 'medium_url',\n",
       "       'picture_url', 'xl_picture_url', 'host_id', 'host_name', 'host_since',\n",
       "       'host_location', 'host_about', 'host_response_time',\n",
       "       'host_response_rate', 'host_acceptance_rate', 'host_is_superhost',\n",
       "       'host_thumbnail_url', 'host_neighbourhood', 'host_listings_count',\n",
       "       'host_total_listings_count', 'host_verifications',\n",
       "       'host_has_profile_pic', 'host_identity_verified', 'street',\n",
       "       'neighbourhood', 'neighbourhood_cleansed',\n",
       "       'neighbourhood_group_cleansed', 'city', 'state', 'zipcode', 'market',\n",
       "       'smart_location', 'country_code', 'country', 'latitude', 'longitude',\n",
       "       'is_location_exact', 'property_type', 'room_type', 'accommodates',\n",
       "       'bathrooms', 'bedrooms', 'beds', 'bed_type', 'amenities', 'square_feet',\n",
       "       'price', 'weekly_price', 'monthly_price', 'security_deposit',\n",
       "       'cleaning_fee', 'guests_included', 'minimum_minimum_nights',\n",
       "       'maximum_minimum_nights', 'minimum_maximum_nights',\n",
       "       'maximum_maximum_nights', 'minimum_nights_avg_ntm',\n",
       "       'maximum_nights_avg_ntm', 'has_availability', 'calendar_last_scraped',\n",
       "       'number_of_reviews', 'number_of_reviews_ltm', 'review_scores_rating',\n",
       "       'review_scores_accuracy', 'review_scores_cleanliness',\n",
       "       'review_scores_checkin', 'review_scores_communication',\n",
       "       'review_scores_location', 'review_scores_value', 'requires_license',\n",
       "       'license', 'jurisdiction_names', 'instant_bookable',\n",
       "       'is_business_travel_ready', 'cancellation_policy',\n",
       "       'require_guest_profile_picture', 'require_guest_phone_verification',\n",
       "       'calculated_host_listings_count',\n",
       "       'calculated_host_listings_count_entire_homes',\n",
       "       'calculated_host_listings_count_private_rooms',\n",
       "       'calculated_host_listings_count_shared_rooms', 'reviews_per_month',\n",
       "       'year'],\n",
       "      dtype='object')"
      ]
     },
     "execution_count": 15,
     "metadata": {},
     "output_type": "execute_result"
    }
   ],
   "source": [
    "may_master_list.columns"
   ]
  },
  {
   "cell_type": "code",
   "execution_count": 16,
   "metadata": {},
   "outputs": [],
   "source": [
    "may_master_list.drop(['experiences_offered'], axis=1, inplace = True)\n",
    "may_master_list.drop(['jurisdiction_names'], axis=1, inplace = True)\n",
    "may_master_list.drop(['calendar_last_scraped'], axis=1, inplace = True)\n",
    "may_master_list.drop(['cancellation_policy'], axis=1, inplace = True)\n",
    "may_master_list.drop(['number_of_reviews_ltm'], axis=1, inplace = True)\n",
    "may_master_list.drop(['neighborhood_overview'], axis=1, inplace = True)\n",
    "may_master_list.drop(['xl_picture_url'], axis=1, inplace = True)"
   ]
  },
  {
   "cell_type": "code",
   "execution_count": 17,
   "metadata": {},
   "outputs": [
    {
     "data": {
      "text/plain": [
       "Index(['id', 'listing_url', 'scrape_id', 'last_scraped', 'description',\n",
       "       'notes', 'transit', 'access', 'interaction', 'house_rules',\n",
       "       'thumbnail_url', 'medium_url', 'picture_url', 'host_id', 'host_name',\n",
       "       'host_since', 'host_location', 'host_about', 'host_response_time',\n",
       "       'host_response_rate', 'host_acceptance_rate', 'host_is_superhost',\n",
       "       'host_thumbnail_url', 'host_neighbourhood', 'host_listings_count',\n",
       "       'host_total_listings_count', 'host_verifications',\n",
       "       'host_has_profile_pic', 'host_identity_verified', 'street',\n",
       "       'neighbourhood', 'neighbourhood_cleansed',\n",
       "       'neighbourhood_group_cleansed', 'city', 'state', 'zipcode', 'market',\n",
       "       'smart_location', 'country_code', 'country', 'latitude', 'longitude',\n",
       "       'is_location_exact', 'property_type', 'room_type', 'accommodates',\n",
       "       'bathrooms', 'bedrooms', 'beds', 'bed_type', 'amenities', 'square_feet',\n",
       "       'price', 'weekly_price', 'monthly_price', 'security_deposit',\n",
       "       'cleaning_fee', 'guests_included', 'minimum_minimum_nights',\n",
       "       'maximum_minimum_nights', 'minimum_maximum_nights',\n",
       "       'maximum_maximum_nights', 'minimum_nights_avg_ntm',\n",
       "       'maximum_nights_avg_ntm', 'has_availability', 'number_of_reviews',\n",
       "       'review_scores_rating', 'review_scores_accuracy',\n",
       "       'review_scores_cleanliness', 'review_scores_checkin',\n",
       "       'review_scores_communication', 'review_scores_location',\n",
       "       'review_scores_value', 'requires_license', 'license',\n",
       "       'instant_bookable', 'is_business_travel_ready',\n",
       "       'require_guest_profile_picture', 'require_guest_phone_verification',\n",
       "       'calculated_host_listings_count',\n",
       "       'calculated_host_listings_count_entire_homes',\n",
       "       'calculated_host_listings_count_private_rooms',\n",
       "       'calculated_host_listings_count_shared_rooms', 'reviews_per_month',\n",
       "       'year'],\n",
       "      dtype='object')"
      ]
     },
     "execution_count": 17,
     "metadata": {},
     "output_type": "execute_result"
    }
   ],
   "source": [
    "may_master_list.columns"
   ]
  },
  {
   "cell_type": "code",
   "execution_count": 18,
   "metadata": {},
   "outputs": [],
   "source": [
    "may_master_list.drop(['notes'], axis=1, inplace = True)\n",
    "may_master_list.drop(['access'], axis=1, inplace = True)\n",
    "may_master_list.drop(['interaction'], axis=1, inplace = True)\n",
    "may_master_list.drop(['house_rules'], axis=1, inplace = True)\n",
    "may_master_list.drop(['thumbnail_url'], axis=1, inplace = True)\n",
    "may_master_list.drop(['medium_url'], axis=1, inplace = True)\n",
    "may_master_list.drop(['picture_url'], axis=1, inplace = True)"
   ]
  },
  {
   "cell_type": "code",
   "execution_count": 19,
   "metadata": {},
   "outputs": [
    {
     "data": {
      "text/plain": [
       "Index(['id', 'listing_url', 'scrape_id', 'last_scraped', 'description',\n",
       "       'transit', 'host_id', 'host_name', 'host_since', 'host_location',\n",
       "       'host_about', 'host_response_time', 'host_response_rate',\n",
       "       'host_acceptance_rate', 'host_is_superhost', 'host_thumbnail_url',\n",
       "       'host_neighbourhood', 'host_listings_count',\n",
       "       'host_total_listings_count', 'host_verifications',\n",
       "       'host_has_profile_pic', 'host_identity_verified', 'street',\n",
       "       'neighbourhood', 'neighbourhood_cleansed',\n",
       "       'neighbourhood_group_cleansed', 'city', 'state', 'zipcode', 'market',\n",
       "       'smart_location', 'country_code', 'country', 'latitude', 'longitude',\n",
       "       'is_location_exact', 'property_type', 'room_type', 'accommodates',\n",
       "       'bathrooms', 'bedrooms', 'beds', 'bed_type', 'amenities', 'square_feet',\n",
       "       'price', 'weekly_price', 'monthly_price', 'security_deposit',\n",
       "       'cleaning_fee', 'guests_included', 'minimum_minimum_nights',\n",
       "       'maximum_minimum_nights', 'minimum_maximum_nights',\n",
       "       'maximum_maximum_nights', 'minimum_nights_avg_ntm',\n",
       "       'maximum_nights_avg_ntm', 'has_availability', 'number_of_reviews',\n",
       "       'review_scores_rating', 'review_scores_accuracy',\n",
       "       'review_scores_cleanliness', 'review_scores_checkin',\n",
       "       'review_scores_communication', 'review_scores_location',\n",
       "       'review_scores_value', 'requires_license', 'license',\n",
       "       'instant_bookable', 'is_business_travel_ready',\n",
       "       'require_guest_profile_picture', 'require_guest_phone_verification',\n",
       "       'calculated_host_listings_count',\n",
       "       'calculated_host_listings_count_entire_homes',\n",
       "       'calculated_host_listings_count_private_rooms',\n",
       "       'calculated_host_listings_count_shared_rooms', 'reviews_per_month',\n",
       "       'year'],\n",
       "      dtype='object')"
      ]
     },
     "execution_count": 19,
     "metadata": {},
     "output_type": "execute_result"
    }
   ],
   "source": [
    "may_master_list.columns"
   ]
  },
  {
   "cell_type": "code",
   "execution_count": 20,
   "metadata": {},
   "outputs": [],
   "source": [
    "may_master_list.drop(['host_name'], axis=1, inplace = True)\n",
    "may_master_list.drop(['host_about'], axis=1, inplace = True)\n",
    "may_master_list.drop(['host_thumbnail_url'], axis=1, inplace = True)\n",
    "may_master_list.drop(['host_identity_verified'], axis=1, inplace = True)\n",
    "may_master_list.drop(['cleaning_fee'], axis=1, inplace = True)\n",
    "may_master_list.drop(['reviews_per_month'], axis=1, inplace = True)\n",
    "may_master_list.drop(['amenities'], axis=1, inplace = True)\n",
    "may_master_list.drop(['neighbourhood_group_cleansed'], axis=1, inplace = True)\n",
    "may_master_list.drop(['neighbourhood_cleansed'], axis=1, inplace = True)\n",
    "may_master_list.drop(['host_verifications'], axis=1, inplace = True)\n",
    "may_master_list.drop(['host_response_rate'], axis=1, inplace = True)\n"
   ]
  },
  {
   "cell_type": "code",
   "execution_count": 21,
   "metadata": {},
   "outputs": [
    {
     "data": {
      "text/plain": [
       "Index(['id', 'listing_url', 'scrape_id', 'last_scraped', 'description',\n",
       "       'transit', 'host_id', 'host_since', 'host_location',\n",
       "       'host_response_time', 'host_acceptance_rate', 'host_is_superhost',\n",
       "       'host_neighbourhood', 'host_listings_count',\n",
       "       'host_total_listings_count', 'host_has_profile_pic', 'street',\n",
       "       'neighbourhood', 'city', 'state', 'zipcode', 'market', 'smart_location',\n",
       "       'country_code', 'country', 'latitude', 'longitude', 'is_location_exact',\n",
       "       'property_type', 'room_type', 'accommodates', 'bathrooms', 'bedrooms',\n",
       "       'beds', 'bed_type', 'square_feet', 'price', 'weekly_price',\n",
       "       'monthly_price', 'security_deposit', 'guests_included',\n",
       "       'minimum_minimum_nights', 'maximum_minimum_nights',\n",
       "       'minimum_maximum_nights', 'maximum_maximum_nights',\n",
       "       'minimum_nights_avg_ntm', 'maximum_nights_avg_ntm', 'has_availability',\n",
       "       'number_of_reviews', 'review_scores_rating', 'review_scores_accuracy',\n",
       "       'review_scores_cleanliness', 'review_scores_checkin',\n",
       "       'review_scores_communication', 'review_scores_location',\n",
       "       'review_scores_value', 'requires_license', 'license',\n",
       "       'instant_bookable', 'is_business_travel_ready',\n",
       "       'require_guest_profile_picture', 'require_guest_phone_verification',\n",
       "       'calculated_host_listings_count',\n",
       "       'calculated_host_listings_count_entire_homes',\n",
       "       'calculated_host_listings_count_private_rooms',\n",
       "       'calculated_host_listings_count_shared_rooms', 'year'],\n",
       "      dtype='object')"
      ]
     },
     "execution_count": 21,
     "metadata": {},
     "output_type": "execute_result"
    }
   ],
   "source": [
    "may_master_list.columns"
   ]
  },
  {
   "cell_type": "code",
   "execution_count": 22,
   "metadata": {},
   "outputs": [],
   "source": [
    "\n",
    "\n",
    "may_master_list.drop(['host_location'], axis=1, inplace = True)\n",
    "may_master_list.drop(['host_response_time'], axis=1, inplace = True)\n",
    "may_master_list.drop(['host_acceptance_rate'], axis=1, inplace = True)\n",
    "may_master_list.drop(['host_neighbourhood'], axis=1, inplace = True)\n",
    "may_master_list.drop(['host_has_profile_pic'], axis=1, inplace = True)\n",
    "may_master_list.drop(['minimum_minimum_nights'], axis=1, inplace = True)\n",
    "may_master_list.drop(['maximum_minimum_nights'], axis=1, inplace = True)\n",
    "may_master_list.drop(['minimum_maximum_nights'], axis=1, inplace = True)\n"
   ]
  },
  {
   "cell_type": "code",
   "execution_count": 23,
   "metadata": {},
   "outputs": [
    {
     "data": {
      "text/plain": [
       "Index(['id', 'listing_url', 'scrape_id', 'last_scraped', 'description',\n",
       "       'transit', 'host_id', 'host_since', 'host_is_superhost',\n",
       "       'host_listings_count', 'host_total_listings_count', 'street',\n",
       "       'neighbourhood', 'city', 'state', 'zipcode', 'market', 'smart_location',\n",
       "       'country_code', 'country', 'latitude', 'longitude', 'is_location_exact',\n",
       "       'property_type', 'room_type', 'accommodates', 'bathrooms', 'bedrooms',\n",
       "       'beds', 'bed_type', 'square_feet', 'price', 'weekly_price',\n",
       "       'monthly_price', 'security_deposit', 'guests_included',\n",
       "       'maximum_maximum_nights', 'minimum_nights_avg_ntm',\n",
       "       'maximum_nights_avg_ntm', 'has_availability', 'number_of_reviews',\n",
       "       'review_scores_rating', 'review_scores_accuracy',\n",
       "       'review_scores_cleanliness', 'review_scores_checkin',\n",
       "       'review_scores_communication', 'review_scores_location',\n",
       "       'review_scores_value', 'requires_license', 'license',\n",
       "       'instant_bookable', 'is_business_travel_ready',\n",
       "       'require_guest_profile_picture', 'require_guest_phone_verification',\n",
       "       'calculated_host_listings_count',\n",
       "       'calculated_host_listings_count_entire_homes',\n",
       "       'calculated_host_listings_count_private_rooms',\n",
       "       'calculated_host_listings_count_shared_rooms', 'year'],\n",
       "      dtype='object')"
      ]
     },
     "execution_count": 23,
     "metadata": {},
     "output_type": "execute_result"
    }
   ],
   "source": [
    "may_master_list.columns"
   ]
  },
  {
   "cell_type": "code",
   "execution_count": 24,
   "metadata": {},
   "outputs": [
    {
     "data": {
      "text/plain": [
       "(42486, 59)"
      ]
     },
     "execution_count": 24,
     "metadata": {},
     "output_type": "execute_result"
    }
   ],
   "source": [
    "may_master_list.shape"
   ]
  },
  {
   "cell_type": "code",
   "execution_count": 25,
   "metadata": {},
   "outputs": [],
   "source": [
    "may_master_list.drop(['host_is_superhost'], axis=1, inplace = True)\n",
    "may_master_list.drop(['host_listings_count'], axis=1, inplace = True)\n",
    "may_master_list.drop(['bed_type'], axis=1, inplace = True)\n",
    "may_master_list.drop(['security_deposit'], axis=1, inplace = True)\n",
    "may_master_list.drop(['guests_included'], axis=1, inplace = True)\n",
    "may_master_list.drop(['maximum_maximum_nights'], axis=1, inplace = True)\n",
    "may_master_list.drop(['minimum_nights_avg_ntm'], axis=1, inplace = True)\n",
    "may_master_list.drop(['maximum_nights_avg_ntm'], axis=1, inplace = True)"
   ]
  },
  {
   "cell_type": "code",
   "execution_count": 54,
   "metadata": {},
   "outputs": [
    {
     "data": {
      "text/plain": [
       "(42486, 51)"
      ]
     },
     "execution_count": 54,
     "metadata": {},
     "output_type": "execute_result"
    }
   ],
   "source": [
    "may_master_list.shape"
   ]
  },
  {
   "cell_type": "code",
   "execution_count": 19,
   "metadata": {},
   "outputs": [
    {
     "data": {
      "text/plain": [
       "Index(['id', 'listing_url', 'scrape_id', 'last_scraped', 'description',\n",
       "       'transit', 'host_id', 'host_since', 'host_total_listings_count',\n",
       "       'street', 'neighbourhood', 'city', 'state', 'zipcode', 'market',\n",
       "       'smart_location', 'country_code', 'country', 'latitude', 'longitude',\n",
       "       'is_location_exact', 'property_type', 'room_type', 'accommodates',\n",
       "       'bathrooms', 'bedrooms', 'beds', 'square_feet', 'price', 'weekly_price',\n",
       "       'monthly_price', 'has_availability', 'number_of_reviews',\n",
       "       'review_scores_rating', 'review_scores_accuracy',\n",
       "       'review_scores_cleanliness', 'review_scores_checkin',\n",
       "       'review_scores_communication', 'review_scores_location',\n",
       "       'review_scores_value', 'requires_license', 'license',\n",
       "       'instant_bookable', 'is_business_travel_ready',\n",
       "       'require_guest_profile_picture', 'require_guest_phone_verification',\n",
       "       'calculated_host_listings_count',\n",
       "       'calculated_host_listings_count_entire_homes',\n",
       "       'calculated_host_listings_count_private_rooms',\n",
       "       'calculated_host_listings_count_shared_rooms', 'year'],\n",
       "      dtype='object')"
      ]
     },
     "execution_count": 19,
     "metadata": {},
     "output_type": "execute_result"
    }
   ],
   "source": [
    "may_master_list.columns"
   ]
  },
  {
   "cell_type": "code",
   "execution_count": 26,
   "metadata": {},
   "outputs": [],
   "source": [
    "may_master_list.drop(['calculated_host_listings_count_entire_homes'], axis=1, inplace = True)\n",
    "may_master_list.drop(['calculated_host_listings_count_private_rooms'], axis=1, inplace = True)\n",
    "may_master_list.drop(['calculated_host_listings_count_shared_rooms'], axis=1, inplace = True)\n",
    "may_master_list.drop(['require_guest_phone_verification'], axis=1, inplace = True)\n",
    "may_master_list.drop(['is_business_travel_ready'], axis=1, inplace = True)\n"
   ]
  },
  {
   "cell_type": "code",
   "execution_count": 57,
   "metadata": {},
   "outputs": [
    {
     "ename": "SyntaxError",
     "evalue": "invalid syntax (<ipython-input-57-c1bd18bf8b8f>, line 1)",
     "output_type": "error",
     "traceback": [
      "\u001b[0;36m  File \u001b[0;32m\"<ipython-input-57-c1bd18bf8b8f>\"\u001b[0;36m, line \u001b[0;32m1\u001b[0m\n\u001b[0;31m    may_master_list..value_counts()\u001b[0m\n\u001b[0m                    ^\u001b[0m\n\u001b[0;31mSyntaxError\u001b[0m\u001b[0;31m:\u001b[0m invalid syntax\n"
     ]
    }
   ],
   "source": [
    "may_master_list.value_counts()"
   ]
  },
  {
   "cell_type": "code",
   "execution_count": null,
   "metadata": {},
   "outputs": [],
   "source": [
    "may_master_list.columns"
   ]
  },
  {
   "cell_type": "code",
   "execution_count": 27,
   "metadata": {},
   "outputs": [],
   "source": [
    "may_master_list.drop(['listing_url'], axis=1, inplace = True)\n",
    "may_master_list.drop(['market'], axis=1, inplace = True)\n",
    "may_master_list.drop(['review_scores_cleanliness'], axis=1, inplace = True)\n",
    "may_master_list.drop(['review_scores_checkin'], axis=1, inplace = True)\n",
    "may_master_list.drop(['review_scores_communication'], axis=1, inplace = True)\n",
    "may_master_list.drop(['monthly_price'], axis=1, inplace = True)\n",
    "may_master_list.drop(['weekly_price'], axis=1, inplace = True)\n",
    "may_master_list.drop(['smart_location'], axis=1, inplace = True)\n",
    "may_master_list.drop(['is_location_exact'], axis=1, inplace = True)\n",
    "may_master_list.drop(['instant_bookable'], axis=1, inplace = True)\n",
    "\n"
   ]
  },
  {
   "cell_type": "code",
   "execution_count": null,
   "metadata": {},
   "outputs": [],
   "source": [
    "may_master_list.columns"
   ]
  },
  {
   "cell_type": "code",
   "execution_count": 28,
   "metadata": {},
   "outputs": [],
   "source": [
    "may_master_list.to_csv('may_master_list_edited.csv')"
   ]
  },
  {
   "cell_type": "code",
   "execution_count": 9,
   "metadata": {},
   "outputs": [],
   "source": [
    "list_16 = pd.read_csv('~/downloads/may_airbnb_data/516listings.csv')\n",
    "list_17 = pd.read_csv('~/downloads/may_airbnb_data/517listings.csv')\n",
    "list_18 = pd.read_csv('~/downloads/may_airbnb_data/518listings.csv')\n",
    "list_19 = pd.read_csv('~/downloads/may_airbnb_data/519listings.csv')\n",
    "list_20 = pd.read_csv('~/downloads/may_airbnb_data/520listings.csv')\n",
    "\n",
    "\n"
   ]
  },
  {
   "cell_type": "code",
   "execution_count": null,
   "metadata": {},
   "outputs": [],
   "source": []
  },
  {
   "cell_type": "code",
   "execution_count": 10,
   "metadata": {},
   "outputs": [],
   "source": [
    "list_20['year'] = 2020 \n",
    "list_19['year'] = 2019 \n",
    "list_18['year'] = 2018\n",
    "list_17['year'] = 2017\n",
    "list_16['year'] = 2016\n",
    "list_15['year'] = 2015 "
   ]
  },
  {
   "cell_type": "code",
   "execution_count": 11,
   "metadata": {},
   "outputs": [],
   "source": [
    "may_master_list = pd.concat([list_20, list_19, list_18, list_17, list_16, list_15])"
   ]
  },
  {
   "cell_type": "code",
   "execution_count": null,
   "metadata": {},
   "outputs": [],
   "source": [
    "may_master_list.describe()"
   ]
  },
  {
   "cell_type": "code",
   "execution_count": null,
   "metadata": {},
   "outputs": [],
   "source": []
  },
  {
   "cell_type": "code",
   "execution_count": null,
   "metadata": {},
   "outputs": [],
   "source": []
  },
  {
   "cell_type": "code",
   "execution_count": null,
   "metadata": {},
   "outputs": [],
   "source": [
    "#may_master_list.to_csv('may_master_list.csv')"
   ]
  },
  {
   "cell_type": "code",
   "execution_count": 29,
   "metadata": {},
   "outputs": [],
   "source": [
    "rev_15 = pd.read_csv('~/downloads/may_airbnb_data/515reviews.csv')"
   ]
  },
  {
   "cell_type": "code",
   "execution_count": 60,
   "metadata": {},
   "outputs": [
    {
     "data": {
      "text/html": [
       "<div>\n",
       "<style scoped>\n",
       "    .dataframe tbody tr th:only-of-type {\n",
       "        vertical-align: middle;\n",
       "    }\n",
       "\n",
       "    .dataframe tbody tr th {\n",
       "        vertical-align: top;\n",
       "    }\n",
       "\n",
       "    .dataframe thead th {\n",
       "        text-align: right;\n",
       "    }\n",
       "</style>\n",
       "<table border=\"1\" class=\"dataframe\">\n",
       "  <thead>\n",
       "    <tr style=\"text-align: right;\">\n",
       "      <th></th>\n",
       "      <th>listing_id</th>\n",
       "      <th>id</th>\n",
       "      <th>date</th>\n",
       "      <th>reviewer_id</th>\n",
       "      <th>reviewer_name</th>\n",
       "      <th>comments</th>\n",
       "    </tr>\n",
       "  </thead>\n",
       "  <tbody>\n",
       "    <tr>\n",
       "      <th>0</th>\n",
       "      <td>295240</td>\n",
       "      <td>913796</td>\n",
       "      <td>2012-02-11</td>\n",
       "      <td>21283</td>\n",
       "      <td>Nick</td>\n",
       "      <td>Kristoffer was an amazing host and our stay at...</td>\n",
       "    </tr>\n",
       "    <tr>\n",
       "      <th>1</th>\n",
       "      <td>295240</td>\n",
       "      <td>943949</td>\n",
       "      <td>2012-02-23</td>\n",
       "      <td>1678696</td>\n",
       "      <td>Stephen</td>\n",
       "      <td>Great flat! Great hosts!  Great location!  I w...</td>\n",
       "    </tr>\n",
       "    <tr>\n",
       "      <th>2</th>\n",
       "      <td>295240</td>\n",
       "      <td>988257</td>\n",
       "      <td>2012-03-11</td>\n",
       "      <td>1741830</td>\n",
       "      <td>Margot</td>\n",
       "      <td>Great flat, great place and city!</td>\n",
       "    </tr>\n",
       "    <tr>\n",
       "      <th>3</th>\n",
       "      <td>295240</td>\n",
       "      <td>1020370</td>\n",
       "      <td>2012-03-19</td>\n",
       "      <td>1887360</td>\n",
       "      <td>Abbie</td>\n",
       "      <td>This apartment was everything and more!  The l...</td>\n",
       "    </tr>\n",
       "    <tr>\n",
       "      <th>4</th>\n",
       "      <td>295240</td>\n",
       "      <td>1129408</td>\n",
       "      <td>2012-04-14</td>\n",
       "      <td>1338095</td>\n",
       "      <td>Mike</td>\n",
       "      <td>The place was perfect!  Close to transportatio...</td>\n",
       "    </tr>\n",
       "  </tbody>\n",
       "</table>\n",
       "</div>"
      ],
      "text/plain": [
       "   listing_id       id        date  reviewer_id reviewer_name  \\\n",
       "0      295240   913796  2012-02-11        21283          Nick   \n",
       "1      295240   943949  2012-02-23      1678696       Stephen   \n",
       "2      295240   988257  2012-03-11      1741830        Margot   \n",
       "3      295240  1020370  2012-03-19      1887360         Abbie   \n",
       "4      295240  1129408  2012-04-14      1338095          Mike   \n",
       "\n",
       "                                            comments  \n",
       "0  Kristoffer was an amazing host and our stay at...  \n",
       "1  Great flat! Great hosts!  Great location!  I w...  \n",
       "2                  Great flat, great place and city!  \n",
       "3  This apartment was everything and more!  The l...  \n",
       "4  The place was perfect!  Close to transportatio...  "
      ]
     },
     "execution_count": 60,
     "metadata": {},
     "output_type": "execute_result"
    }
   ],
   "source": [
    "rev_15.head()"
   ]
  },
  {
   "cell_type": "code",
   "execution_count": 30,
   "metadata": {},
   "outputs": [],
   "source": [
    "rev_16 = pd.read_csv('~/downloads/may_airbnb_data/516reviews.csv')\n",
    "rev_17 = pd.read_csv('~/downloads/may_airbnb_data/517reviews.csv')\n",
    "rev_18 = pd.read_csv('~/downloads/may_airbnb_data/518reviews.csv')\n",
    "rev_19 = pd.read_csv('~/downloads/may_airbnb_data/519reviews.csv')\n",
    "rev_20 = pd.read_csv('~/downloads/may_airbnb_data/520reviews.csv')"
   ]
  },
  {
   "cell_type": "code",
   "execution_count": 62,
   "metadata": {},
   "outputs": [
    {
     "data": {
      "text/html": [
       "<div>\n",
       "<style scoped>\n",
       "    .dataframe tbody tr th:only-of-type {\n",
       "        vertical-align: middle;\n",
       "    }\n",
       "\n",
       "    .dataframe tbody tr th {\n",
       "        vertical-align: top;\n",
       "    }\n",
       "\n",
       "    .dataframe thead th {\n",
       "        text-align: right;\n",
       "    }\n",
       "</style>\n",
       "<table border=\"1\" class=\"dataframe\">\n",
       "  <thead>\n",
       "    <tr style=\"text-align: right;\">\n",
       "      <th></th>\n",
       "      <th>listing_id</th>\n",
       "      <th>date</th>\n",
       "      <th>available</th>\n",
       "      <th>price</th>\n",
       "      <th>year</th>\n",
       "    </tr>\n",
       "  </thead>\n",
       "  <tbody>\n",
       "    <tr>\n",
       "      <th>0</th>\n",
       "      <td>524299</td>\n",
       "      <td>2015-05-04</td>\n",
       "      <td>t</td>\n",
       "      <td>$250.00</td>\n",
       "      <td>2015</td>\n",
       "    </tr>\n",
       "    <tr>\n",
       "      <th>1</th>\n",
       "      <td>524299</td>\n",
       "      <td>2015-05-05</td>\n",
       "      <td>t</td>\n",
       "      <td>$250.00</td>\n",
       "      <td>2015</td>\n",
       "    </tr>\n",
       "    <tr>\n",
       "      <th>2</th>\n",
       "      <td>524299</td>\n",
       "      <td>2015-05-06</td>\n",
       "      <td>t</td>\n",
       "      <td>$250.00</td>\n",
       "      <td>2015</td>\n",
       "    </tr>\n",
       "    <tr>\n",
       "      <th>3</th>\n",
       "      <td>524299</td>\n",
       "      <td>2015-05-07</td>\n",
       "      <td>t</td>\n",
       "      <td>$250.00</td>\n",
       "      <td>2015</td>\n",
       "    </tr>\n",
       "    <tr>\n",
       "      <th>4</th>\n",
       "      <td>524299</td>\n",
       "      <td>2015-05-08</td>\n",
       "      <td>t</td>\n",
       "      <td>$250.00</td>\n",
       "      <td>2015</td>\n",
       "    </tr>\n",
       "  </tbody>\n",
       "</table>\n",
       "</div>"
      ],
      "text/plain": [
       "   listing_id        date available    price  year\n",
       "0      524299  2015-05-04         t  $250.00  2015\n",
       "1      524299  2015-05-05         t  $250.00  2015\n",
       "2      524299  2015-05-06         t  $250.00  2015\n",
       "3      524299  2015-05-07         t  $250.00  2015\n",
       "4      524299  2015-05-08         t  $250.00  2015"
      ]
     },
     "execution_count": 62,
     "metadata": {},
     "output_type": "execute_result"
    }
   ],
   "source": [
    "cal_15.head()"
   ]
  },
  {
   "cell_type": "code",
   "execution_count": null,
   "metadata": {},
   "outputs": [],
   "source": [
    "#may_cal_last = pd.merge(may_master_cal, may_master_list, on='listing_id', how='left')"
   ]
  },
  {
   "cell_type": "code",
   "execution_count": 31,
   "metadata": {},
   "outputs": [],
   "source": [
    "may_master_rev = pd.concat([rev_20, rev_19, rev_18, rev_17, rev_16, rev_15])"
   ]
  },
  {
   "cell_type": "code",
   "execution_count": null,
   "metadata": {},
   "outputs": [],
   "source": [
    "#may_master_rev.to_csv('may_master_rev.csv')"
   ]
  },
  {
   "cell_type": "code",
   "execution_count": null,
   "metadata": {},
   "outputs": [],
   "source": [
    "#may_cal_rev = pd.merge(may_master_cal, may_master_rev, on='listing_id', how='inner')"
   ]
  },
  {
   "cell_type": "code",
   "execution_count": null,
   "metadata": {},
   "outputs": [],
   "source": [
    "may_master"
   ]
  },
  {
   "cell_type": "markdown",
   "metadata": {},
   "source": [
    "may_master_list.head()"
   ]
  },
  {
   "cell_type": "code",
   "execution_count": 32,
   "metadata": {},
   "outputs": [],
   "source": [
    "may_master_list.drop(['require_guest_profile_picture'], axis=1, inplace = True)"
   ]
  },
  {
   "cell_type": "code",
   "execution_count": null,
   "metadata": {},
   "outputs": [],
   "source": [
    "may_master_list.columns"
   ]
  },
  {
   "cell_type": "code",
   "execution_count": null,
   "metadata": {},
   "outputs": [],
   "source": [
    "may_master_list.head()"
   ]
  },
  {
   "cell_type": "code",
   "execution_count": null,
   "metadata": {},
   "outputs": [],
   "source": [
    "may_master_list.jurisdiction_names.value_counts()"
   ]
  },
  {
   "cell_type": "code",
   "execution_count": null,
   "metadata": {},
   "outputs": [],
   "source": [
    "may_master_cal.head()"
   ]
  },
  {
   "cell_type": "code",
   "execution_count": null,
   "metadata": {},
   "outputs": [],
   "source": [
    "#may_cal_list = pd.merge(may_master_cal, may_master_list, on='listing_id', how='inner')"
   ]
  },
  {
   "cell_type": "code",
   "execution_count": null,
   "metadata": {},
   "outputs": [],
   "source": [
    "may_master_list.head()"
   ]
  },
  {
   "cell_type": "code",
   "execution_count": null,
   "metadata": {},
   "outputs": [],
   "source": [
    "may_master_rev.head()"
   ]
  },
  {
   "cell_type": "code",
   "execution_count": 33,
   "metadata": {},
   "outputs": [],
   "source": [
    "may_master_rev.drop(['comments'], axis=1, inplace = True)"
   ]
  },
  {
   "cell_type": "code",
   "execution_count": 34,
   "metadata": {},
   "outputs": [],
   "source": [
    "may_master_rev.drop(['reviewer_name'], axis=1, inplace = True)"
   ]
  },
  {
   "cell_type": "code",
   "execution_count": 35,
   "metadata": {},
   "outputs": [],
   "source": [
    "may_master_rev.drop(['date'], axis=1, inplace = True)"
   ]
  },
  {
   "cell_type": "markdown",
   "metadata": {},
   "source": []
  },
  {
   "cell_type": "code",
   "execution_count": 43,
   "metadata": {},
   "outputs": [
    {
     "data": {
      "text/html": [
       "<div>\n",
       "<style scoped>\n",
       "    .dataframe tbody tr th:only-of-type {\n",
       "        vertical-align: middle;\n",
       "    }\n",
       "\n",
       "    .dataframe tbody tr th {\n",
       "        vertical-align: top;\n",
       "    }\n",
       "\n",
       "    .dataframe thead th {\n",
       "        text-align: right;\n",
       "    }\n",
       "</style>\n",
       "<table border=\"1\" class=\"dataframe\">\n",
       "  <thead>\n",
       "    <tr style=\"text-align: right;\">\n",
       "      <th></th>\n",
       "      <th>listing_id</th>\n",
       "      <th>id</th>\n",
       "      <th>reviewer_id</th>\n",
       "    </tr>\n",
       "  </thead>\n",
       "  <tbody>\n",
       "    <tr>\n",
       "      <th>0</th>\n",
       "      <td>958</td>\n",
       "      <td>5977</td>\n",
       "      <td>15695</td>\n",
       "    </tr>\n",
       "    <tr>\n",
       "      <th>1</th>\n",
       "      <td>958</td>\n",
       "      <td>6660</td>\n",
       "      <td>26145</td>\n",
       "    </tr>\n",
       "    <tr>\n",
       "      <th>2</th>\n",
       "      <td>958</td>\n",
       "      <td>11519</td>\n",
       "      <td>25839</td>\n",
       "    </tr>\n",
       "    <tr>\n",
       "      <th>3</th>\n",
       "      <td>958</td>\n",
       "      <td>16282</td>\n",
       "      <td>33750</td>\n",
       "    </tr>\n",
       "    <tr>\n",
       "      <th>4</th>\n",
       "      <td>958</td>\n",
       "      <td>26008</td>\n",
       "      <td>15416</td>\n",
       "    </tr>\n",
       "  </tbody>\n",
       "</table>\n",
       "</div>"
      ],
      "text/plain": [
       "   listing_id     id  reviewer_id\n",
       "0         958   5977        15695\n",
       "1         958   6660        26145\n",
       "2         958  11519        25839\n",
       "3         958  16282        33750\n",
       "4         958  26008        15416"
      ]
     },
     "execution_count": 43,
     "metadata": {},
     "output_type": "execute_result"
    }
   ],
   "source": [
    "may_master_rev.head()"
   ]
  },
  {
   "cell_type": "code",
   "execution_count": 44,
   "metadata": {},
   "outputs": [
    {
     "data": {
      "text/html": [
       "<div>\n",
       "<style scoped>\n",
       "    .dataframe tbody tr th:only-of-type {\n",
       "        vertical-align: middle;\n",
       "    }\n",
       "\n",
       "    .dataframe tbody tr th {\n",
       "        vertical-align: top;\n",
       "    }\n",
       "\n",
       "    .dataframe thead th {\n",
       "        text-align: right;\n",
       "    }\n",
       "</style>\n",
       "<table border=\"1\" class=\"dataframe\">\n",
       "  <thead>\n",
       "    <tr style=\"text-align: right;\">\n",
       "      <th></th>\n",
       "      <th>listing_id</th>\n",
       "      <th>date</th>\n",
       "      <th>available</th>\n",
       "      <th>price</th>\n",
       "      <th>adjusted_price</th>\n",
       "      <th>minimum_nights</th>\n",
       "      <th>maximum_nights</th>\n",
       "      <th>year</th>\n",
       "    </tr>\n",
       "  </thead>\n",
       "  <tbody>\n",
       "    <tr>\n",
       "      <th>0</th>\n",
       "      <td>74758</td>\n",
       "      <td>2020-05-06</td>\n",
       "      <td>t</td>\n",
       "      <td>$35.00</td>\n",
       "      <td>$35.00</td>\n",
       "      <td>30.0</td>\n",
       "      <td>1125.0</td>\n",
       "      <td>2020</td>\n",
       "    </tr>\n",
       "    <tr>\n",
       "      <th>1</th>\n",
       "      <td>74758</td>\n",
       "      <td>2020-05-07</td>\n",
       "      <td>t</td>\n",
       "      <td>$35.00</td>\n",
       "      <td>$35.00</td>\n",
       "      <td>30.0</td>\n",
       "      <td>1125.0</td>\n",
       "      <td>2020</td>\n",
       "    </tr>\n",
       "    <tr>\n",
       "      <th>2</th>\n",
       "      <td>74758</td>\n",
       "      <td>2020-05-08</td>\n",
       "      <td>t</td>\n",
       "      <td>$35.00</td>\n",
       "      <td>$35.00</td>\n",
       "      <td>30.0</td>\n",
       "      <td>1125.0</td>\n",
       "      <td>2020</td>\n",
       "    </tr>\n",
       "    <tr>\n",
       "      <th>3</th>\n",
       "      <td>74758</td>\n",
       "      <td>2020-05-09</td>\n",
       "      <td>t</td>\n",
       "      <td>$35.00</td>\n",
       "      <td>$35.00</td>\n",
       "      <td>30.0</td>\n",
       "      <td>1125.0</td>\n",
       "      <td>2020</td>\n",
       "    </tr>\n",
       "    <tr>\n",
       "      <th>4</th>\n",
       "      <td>74758</td>\n",
       "      <td>2020-05-10</td>\n",
       "      <td>t</td>\n",
       "      <td>$35.00</td>\n",
       "      <td>$35.00</td>\n",
       "      <td>30.0</td>\n",
       "      <td>1125.0</td>\n",
       "      <td>2020</td>\n",
       "    </tr>\n",
       "  </tbody>\n",
       "</table>\n",
       "</div>"
      ],
      "text/plain": [
       "   listing_id        date available   price adjusted_price  minimum_nights  \\\n",
       "0       74758  2020-05-06         t  $35.00         $35.00            30.0   \n",
       "1       74758  2020-05-07         t  $35.00         $35.00            30.0   \n",
       "2       74758  2020-05-08         t  $35.00         $35.00            30.0   \n",
       "3       74758  2020-05-09         t  $35.00         $35.00            30.0   \n",
       "4       74758  2020-05-10         t  $35.00         $35.00            30.0   \n",
       "\n",
       "   maximum_nights  year  \n",
       "0          1125.0  2020  \n",
       "1          1125.0  2020  \n",
       "2          1125.0  2020  \n",
       "3          1125.0  2020  \n",
       "4          1125.0  2020  "
      ]
     },
     "execution_count": 44,
     "metadata": {},
     "output_type": "execute_result"
    }
   ],
   "source": [
    "may_master_cal.head()"
   ]
  },
  {
   "cell_type": "code",
   "execution_count": 36,
   "metadata": {},
   "outputs": [],
   "source": [
    "may_master_cal.drop(['adjusted_price'], axis=1, inplace = True)\n",
    "may_master_cal.drop(['minimum_nights'], axis=1, inplace = True)\n",
    "may_master_cal.drop(['maximum_nights'], axis=1, inplace = True)"
   ]
  },
  {
   "cell_type": "code",
   "execution_count": 37,
   "metadata": {},
   "outputs": [],
   "source": [
    "may_master_rev.to_csv('may_master_rev_edited.csv')"
   ]
  },
  {
   "cell_type": "code",
   "execution_count": 38,
   "metadata": {},
   "outputs": [],
   "source": [
    "may_master_cal.to_csv('may_master_cal_edited.csv')"
   ]
  },
  {
   "cell_type": "markdown",
   "metadata": {},
   "source": [
    "may_master_cal.head()"
   ]
  },
  {
   "cell_type": "code",
   "execution_count": null,
   "metadata": {},
   "outputs": [],
   "source": [
    "may_cal_rev = pd.merge(may_master_cal, may_master_rev, on='listing_id', how='inner')"
   ]
  },
  {
   "cell_type": "code",
   "execution_count": null,
   "metadata": {},
   "outputs": [],
   "source": []
  },
  {
   "cell_type": "code",
   "execution_count": null,
   "metadata": {},
   "outputs": [],
   "source": [
    "may_cal_rev_list = pd.merge(may_cal_rev, may_master_list, on='id', how='inner')"
   ]
  }
 ],
 "metadata": {
  "kernelspec": {
   "display_name": "Python 3",
   "language": "python",
   "name": "python3"
  },
  "language_info": {
   "codemirror_mode": {
    "name": "ipython",
    "version": 3
   },
   "file_extension": ".py",
   "mimetype": "text/x-python",
   "name": "python",
   "nbconvert_exporter": "python",
   "pygments_lexer": "ipython3",
   "version": "3.7.7"
  }
 },
 "nbformat": 4,
 "nbformat_minor": 4
}
